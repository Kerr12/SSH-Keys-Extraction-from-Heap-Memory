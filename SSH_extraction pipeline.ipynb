{
 "cells": [
  {
   "cell_type": "code",
   "execution_count": 3,
   "metadata": {},
   "outputs": [],
   "source": [
    "from lib.SSH_extraction_pipeline import SHH_extractor, get_labeled_datasets,  get_Unlabeled_dataset\n",
    "%load_ext autoreload\n",
    "%autoreload 2"
   ]
  },
  {
   "cell_type": "code",
   "execution_count": 1,
   "metadata": {},
   "outputs": [],
   "source": [
    "data_version=None\n",
    "length= None\n",
    "\n",
    "testing_path= 'Data/Performance Test/basic'\n",
    "\n",
    "window_size= 512\n",
    "stride= 64"
   ]
  },
  {
   "cell_type": "code",
   "execution_count": 4,
   "metadata": {},
   "outputs": [
    {
     "name": "stdout",
     "output_type": "stream",
     "text": [
      "Loading files in : Data/Performance Test/basic\n"
     ]
    }
   ],
   "source": [
    "classification_testing_set, regression_testing_set= get_labeled_datasets(path= testing_path , window_size= window_size, stride= stride, version= data_version, length= length)"
   ]
  },
  {
   "cell_type": "code",
   "execution_count": 5,
   "metadata": {},
   "outputs": [
    {
     "name": "stdout",
     "output_type": "stream",
     "text": [
      "Loading classification unit from saved_models/classifier_512B_64B.pth \n",
      "Loading regression unit from saved_models/regressor_512B_64B.pth \n"
     ]
    }
   ],
   "source": [
    "model = SHH_extractor( window_size= window_size, stride= stride)\n",
    "model.load_units(window_size, stride, data_version, length)"
   ]
  },
  {
   "cell_type": "code",
   "execution_count": 6,
   "metadata": {},
   "outputs": [
    {
     "name": "stdout",
     "output_type": "stream",
     "text": [
      "Classification test start\n",
      "Test accuracy: 0.9951\n",
      "Test Confusion matrix: \n",
      "[[867110   3733]\n",
      " [   573  12597]]\n",
      "\n",
      "Precision: 0.8854\n",
      "Recall: 0.9761\n",
      "F1 score: 0.9258\n",
      "Test Complete\n"
     ]
    }
   ],
   "source": [
    "model.classification_test(classification_testing_set, sampling=False)"
   ]
  },
  {
   "cell_type": "code",
   "execution_count": 7,
   "metadata": {},
   "outputs": [
    {
     "name": "stdout",
     "output_type": "stream",
     "text": [
      "Regression test start\n"
     ]
    },
    {
     "name": "stderr",
     "output_type": "stream",
     "text": [
      "/opt/conda/envs/omarenv/lib/python3.9/site-packages/torch/_tensor.py:575: UserWarning: floor_divide is deprecated, and will be removed in a future version of pytorch. It currently rounds toward 0 (like the 'trunc' function NOT 'floor'). This results in incorrect rounding for negative values.\n",
      "To keep the current behavior, use torch.div(a, b, rounding_mode='trunc'), or for actual floor division, use torch.div(a, b, rounding_mode='floor'). (Triggered internally at  ../aten/src/ATen/native/BinaryOps.cpp:467.)\n",
      "  return torch.floor_divide(self, other)\n"
     ]
    },
    {
     "name": "stdout",
     "output_type": "stream",
     "text": [
      "Regression testing results:\n",
      "Mean Squared Error (MSE): 564.8959757023538\n",
      "Root Mean Squared Error (RMSE): 23.767540379735422\n",
      "Mean Absolute Error (MAE): 4.758086560364465\n",
      "R-squared (R2) Score: 0.9743815631452983\n",
      "Test Complete\n"
     ]
    }
   ],
   "source": [
    "model.regression_test(regression_testing_set)"
   ]
  }
 ],
 "metadata": {
  "kernelspec": {
   "display_name": "omarenv",
   "language": "python",
   "name": "python3"
  },
  "language_info": {
   "codemirror_mode": {
    "name": "ipython",
    "version": 3
   },
   "file_extension": ".py",
   "mimetype": "text/x-python",
   "name": "python",
   "nbconvert_exporter": "python",
   "pygments_lexer": "ipython3",
   "version": "3.9.12"
  },
  "orig_nbformat": 4,
  "vscode": {
   "interpreter": {
    "hash": "e93b071cc2cb81918cc7555a316937cb3098cf73499cd025794346e7b19dc380"
   }
  }
 },
 "nbformat": 4,
 "nbformat_minor": 2
}
