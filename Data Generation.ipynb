{
 "cells": [
  {
   "cell_type": "code",
   "execution_count": 3,
   "metadata": {},
   "outputs": [],
   "source": [
    "from lib.functions import extract,delete_old_versions, data_split, full_decode, full_txt_delete, create_csv\n",
    "\n",
    "%reload_ext autoreload\n",
    "%autoreload 2"
   ]
  },
  {
   "cell_type": "markdown",
   "metadata": {},
   "source": [
    "This notebook conducts data acquisition and applies essential data transformations necessary for the development of various models and methodologies. The process involves downloading the requisite data and executing a series of data manipulations to prepare the dataset for subsequent analyses and modeling."
   ]
  },
  {
   "cell_type": "markdown",
   "metadata": {},
   "source": [
    "##### Downloading data\n"
   ]
  },
  {
   "cell_type": "code",
   "execution_count": 4,
   "metadata": {},
   "outputs": [
    {
     "name": "stdout",
     "output_type": "stream",
     "text": [
      "--2023-09-27 12:40:09--  https://zenodo.org/record/6537904/files/Validation.zip?download=1\n",
      "Resolving zenodo.org (zenodo.org)... 188.185.124.72\n",
      "Connecting to zenodo.org (zenodo.org)|188.185.124.72|:443... connected.\n",
      "HTTP request sent, awaiting response... 200 OK\n",
      "Length: 481907421 (460M) [application/octet-stream]\n",
      "Saving to: ‘Validation.zip?download=1’\n",
      "\n",
      "Validation.zip?down 100%[===================>] 459.58M  16.8MB/s    in 34s     \n",
      "\n",
      "2023-09-27 12:40:45 (13.4 MB/s) - ‘Validation.zip?download=1’ saved [481907421/481907421]\n",
      "\n",
      "--2023-09-27 12:40:45--  https://zenodo.org/record/6537904/files/Training.zip?download=1\n",
      "Resolving zenodo.org (zenodo.org)... 188.185.124.72\n",
      "Connecting to zenodo.org (zenodo.org)|188.185.124.72|:443... connected.\n",
      "HTTP request sent, awaiting response... 200 OK\n",
      "Length: 2726340487 (2.5G) [application/octet-stream]\n",
      "Saving to: ‘Training.zip?download=1’\n",
      "\n",
      "Training.zip?downlo 100%[===================>]   2.54G  12.1MB/s    in 3m 35s  \n",
      "\n",
      "2023-09-27 12:44:21 (12.1 MB/s) - ‘Training.zip?download=1’ saved [2726340487/2726340487]\n",
      "\n"
     ]
    }
   ],
   "source": [
    "!wget https://zenodo.org/record/6537904/files/Validation.zip?download=1\n",
    "!wget https://zenodo.org/record/6537904/files/Training.zip?download=1"
   ]
  },
  {
   "cell_type": "markdown",
   "metadata": {},
   "source": [
    "Extrtacting the downloaded ZIP files and deleting residual archives the new data will be stored in a folder named Data"
   ]
  },
  {
   "cell_type": "code",
   "execution_count": 5,
   "metadata": {},
   "outputs": [],
   "source": [
    "extract(directory='Data_V2')"
   ]
  },
  {
   "cell_type": "markdown",
   "metadata": {},
   "source": [
    "The next function deletes old version or data version that we did not use for this work."
   ]
  },
  {
   "cell_type": "code",
   "execution_count": 6,
   "metadata": {},
   "outputs": [
    {
     "name": "stdout",
     "output_type": "stream",
     "text": [
      "Deleting: ./Data_V2/__MACOSX\n",
      "Deleting: ./Data_V2/Validation/scp\n",
      "Deleting: ./Data_V2/Validation/client\n",
      "Deleting: ./Data_V2/Validation/port-forwarding\n",
      "Deleting: ./Data_V2/Validation/basic/V_6_2_P1\n",
      "Deleting: ./Data_V2/Validation/basic/V_6_3_P1\n",
      "Deleting: ./Data_V2/Validation/basic/V_6_1_P1\n",
      "Deleting: ./Data_V2/Validation/basic/V_6_0_P1\n",
      "Deleting: ./Data_V2/Validation/basic/V_6_7_P1\n",
      "Deleting: ./Data_V2/Training/port-forwarding\n",
      "Deleting: ./Data_V2/Training/scp\n",
      "Deleting: ./Data_V2/Training/basic/V_6_0_P1\n",
      "Deleting: ./Data_V2/Training/basic/V_6_1_P1\n",
      "Deleting: ./Data_V2/Training/basic/V_6_3_P1\n",
      "Deleting: ./Data_V2/Training/basic/V_6_2_P1\n",
      "Deleting: ./Data_V2/Training/basic/V_6_7_P1\n",
      "Deleting: ./Data_V2/Training/client\n"
     ]
    }
   ],
   "source": [
    "version_folders_to_delete = ['__MACOSX','scp','port-forwarding','client','V_6_7_P1','V_6_3_P1','V_6_2_P1','V_6_1_P1','V_6_0_P1']\n",
    "delete_old_versions(version_folders_to_delete, directory='Data_V2')"
   ]
  },
  {
   "cell_type": "markdown",
   "metadata": {},
   "source": [
    "We repurpose the validation data for Performance Test and we use a 80:20 ration to split the training data into Training and Validation"
   ]
  },
  {
   "cell_type": "code",
   "execution_count": 7,
   "metadata": {},
   "outputs": [
    {
     "name": "stdout",
     "output_type": "stream",
     "text": [
      "Renaming 'Validation' folder to 'Performance Test'...\n",
      "Rename complete.\n",
      "Splitting the training data 80% Training and 20% Validation'...\n",
      "Split complete.\n"
     ]
    }
   ],
   "source": [
    "data_split(directory='Data_V2')"
   ]
  },
  {
   "cell_type": "markdown",
   "metadata": {},
   "source": [
    "### At this stage you are able to use the SSH extraction pipeline and the deep state machines\n",
    "\n",
    "The remaining commands are use for the purpose of generating CSV files from the data for Decision Trees/ Random Forests and the CNN"
   ]
  },
  {
   "cell_type": "markdown",
   "metadata": {},
   "source": [
    "Decoding All .raw files in the Data directory into .txt files"
   ]
  },
  {
   "cell_type": "code",
   "execution_count": 6,
   "metadata": {},
   "outputs": [
    {
     "name": "stdout",
     "output_type": "stream",
     "text": [
      "Decoding all .raw files into .txt files from : ['./Data/Training/basic/V_7_8_P1/64', './Data/Training/basic/V_7_8_P1/32', './Data/Training/basic/V_7_8_P1/16', './Data/Training/basic/V_7_8_P1/24', './Data/Training/basic/V_7_9_P1/16', './Data/Training/basic/V_7_9_P1/24', './Data/Training/basic/V_7_9_P1/32', './Data/Training/basic/V_7_9_P1/64', './Data/Training/basic/V_8_7_P1/64', './Data/Training/basic/V_8_7_P1/32', './Data/Training/basic/V_8_7_P1/24', './Data/Training/basic/V_8_7_P1/16', './Data/Training/basic/V_8_1_P1/32', './Data/Training/basic/V_8_1_P1/64', './Data/Training/basic/V_8_1_P1/16', './Data/Training/basic/V_8_1_P1/24', './Data/Training/basic/V_8_0_P1/32', './Data/Training/basic/V_8_0_P1/64', './Data/Training/basic/V_8_0_P1/16', './Data/Training/basic/V_8_0_P1/24', './Data/Training/basic/V_8_8_P1/32', './Data/Training/basic/V_8_8_P1/64', './Data/Training/basic/V_8_8_P1/16', './Data/Training/basic/V_8_8_P1/24', './Data/Training/basic/V_7_2_P1/16', './Data/Training/basic/V_7_2_P1/24', './Data/Training/basic/V_7_2_P1/32', './Data/Training/basic/V_7_2_P1/64', './Data/Training/basic/V_7_1_P1/24', './Data/Training/basic/V_7_1_P1/16', './Data/Training/basic/V_7_1_P1/64', './Data/Training/basic/V_7_1_P1/32', './Data/Performance Test/basic/V_8_8_P1/64', './Data/Performance Test/basic/V_8_8_P1/32', './Data/Performance Test/basic/V_8_8_P1/16', './Data/Performance Test/basic/V_8_8_P1/24', './Data/Performance Test/basic/V_7_2_P1/64', './Data/Performance Test/basic/V_7_2_P1/32', './Data/Performance Test/basic/V_7_2_P1/24', './Data/Performance Test/basic/V_7_2_P1/16', './Data/Performance Test/basic/V_7_1_P1/16', './Data/Performance Test/basic/V_7_1_P1/24', './Data/Performance Test/basic/V_7_1_P1/32', './Data/Performance Test/basic/V_7_1_P1/64', './Data/Performance Test/basic/V_7_9_P1/32', './Data/Performance Test/basic/V_7_9_P1/64', './Data/Performance Test/basic/V_7_9_P1/16', './Data/Performance Test/basic/V_7_9_P1/24', './Data/Performance Test/basic/V_7_8_P1/16', './Data/Performance Test/basic/V_7_8_P1/24', './Data/Performance Test/basic/V_7_8_P1/64', './Data/Performance Test/basic/V_7_8_P1/32', './Data/Performance Test/basic/V_8_7_P1/24', './Data/Performance Test/basic/V_8_7_P1/16', './Data/Performance Test/basic/V_8_7_P1/64', './Data/Performance Test/basic/V_8_7_P1/32', './Data/Performance Test/basic/V_8_0_P1/32', './Data/Performance Test/basic/V_8_0_P1/64', './Data/Performance Test/basic/V_8_0_P1/16', './Data/Performance Test/basic/V_8_0_P1/24', './Data/Performance Test/basic/V_8_1_P1/64', './Data/Performance Test/basic/V_8_1_P1/32', './Data/Performance Test/basic/V_8_1_P1/16', './Data/Performance Test/basic/V_8_1_P1/24', './Data/Validation/basic/V_7_2_P1/16', './Data/Validation/basic/V_7_2_P1/24', './Data/Validation/basic/V_7_2_P1/64', './Data/Validation/basic/V_7_2_P1/32', './Data/Validation/basic/V_7_1_P1/24', './Data/Validation/basic/V_7_1_P1/16', './Data/Validation/basic/V_7_1_P1/32', './Data/Validation/basic/V_7_1_P1/64', './Data/Validation/basic/V_8_8_P1/24', './Data/Validation/basic/V_8_8_P1/16', './Data/Validation/basic/V_8_8_P1/32', './Data/Validation/basic/V_8_8_P1/64', './Data/Validation/basic/V_8_1_P1/32', './Data/Validation/basic/V_8_1_P1/64', './Data/Validation/basic/V_8_1_P1/24', './Data/Validation/basic/V_8_1_P1/16', './Data/Validation/basic/V_8_0_P1/24', './Data/Validation/basic/V_8_0_P1/16', './Data/Validation/basic/V_8_0_P1/64', './Data/Validation/basic/V_8_0_P1/32', './Data/Validation/basic/V_7_8_P1/24', './Data/Validation/basic/V_7_8_P1/16', './Data/Validation/basic/V_7_8_P1/64', './Data/Validation/basic/V_7_8_P1/32', './Data/Validation/basic/V_7_9_P1/64', './Data/Validation/basic/V_7_9_P1/32', './Data/Validation/basic/V_7_9_P1/16', './Data/Validation/basic/V_7_9_P1/24', './Data/Validation/basic/V_8_7_P1/64', './Data/Validation/basic/V_8_7_P1/32', './Data/Validation/basic/V_8_7_P1/24', './Data/Validation/basic/V_8_7_P1/16']\n"
     ]
    }
   ],
   "source": [
    "full_decode()"
   ]
  },
  {
   "cell_type": "markdown",
   "metadata": {},
   "source": [
    "Creating CSV files from the .txt files creates previously, CSV files will be data version and encryption key length specific and will also be stored in a new repository named 200seq_8CSV_Data "
   ]
  },
  {
   "cell_type": "code",
   "execution_count": 2,
   "metadata": {},
   "outputs": [
    {
     "name": "stdout",
     "output_type": "stream",
     "text": [
      "Creating CSV files for all the data version in the Data folder\n",
      "Processing : ./Data/Training/basic/V_8_7_P1/64\n",
      "saved: ./CSV_Data/segment_size_200/Training/basic-V_8_7_P1-64.csv\n",
      "Processing : ./Data/Training/basic/V_8_7_P1/32\n",
      "saved: ./CSV_Data/segment_size_200/Training/basic-V_8_7_P1-32.csv\n",
      "Processing : ./Data/Training/basic/V_8_7_P1/24\n",
      "saved: ./CSV_Data/segment_size_200/Training/basic-V_8_7_P1-24.csv\n",
      "Processing : ./Data/Training/basic/V_8_7_P1/16\n",
      "saved: ./CSV_Data/segment_size_200/Training/basic-V_8_7_P1-16.csv\n",
      "Processing : ./Data/Training/basic/V_8_1_P1/32\n",
      "saved: ./CSV_Data/segment_size_200/Training/basic-V_8_1_P1-32.csv\n",
      "Processing : ./Data/Training/basic/V_8_1_P1/64\n",
      "saved: ./CSV_Data/segment_size_200/Training/basic-V_8_1_P1-64.csv\n",
      "Processing : ./Data/Training/basic/V_8_1_P1/16\n",
      "saved: ./CSV_Data/segment_size_200/Training/basic-V_8_1_P1-16.csv\n",
      "Processing : ./Data/Training/basic/V_8_1_P1/24\n",
      "saved: ./CSV_Data/segment_size_200/Training/basic-V_8_1_P1-24.csv\n",
      "Processing : ./Data/Training/basic/V_8_0_P1/32\n",
      "saved: ./CSV_Data/segment_size_200/Training/basic-V_8_0_P1-32.csv\n",
      "Processing : ./Data/Training/basic/V_8_0_P1/64\n",
      "saved: ./CSV_Data/segment_size_200/Training/basic-V_8_0_P1-64.csv\n",
      "Processing : ./Data/Training/basic/V_8_0_P1/16\n",
      "saved: ./CSV_Data/segment_size_200/Training/basic-V_8_0_P1-16.csv\n",
      "Processing : ./Data/Training/basic/V_8_0_P1/24\n",
      "saved: ./CSV_Data/segment_size_200/Training/basic-V_8_0_P1-24.csv\n",
      "Processing : ./Data/Training/basic/V_8_8_P1/32\n",
      "saved: ./CSV_Data/segment_size_200/Training/basic-V_8_8_P1-32.csv\n",
      "Processing : ./Data/Training/basic/V_8_8_P1/64\n",
      "saved: ./CSV_Data/segment_size_200/Training/basic-V_8_8_P1-64.csv\n",
      "Processing : ./Data/Training/basic/V_8_8_P1/16\n",
      "saved: ./CSV_Data/segment_size_200/Training/basic-V_8_8_P1-16.csv\n",
      "Processing : ./Data/Training/basic/V_8_8_P1/24\n",
      "saved: ./CSV_Data/segment_size_200/Training/basic-V_8_8_P1-24.csv\n",
      "Processing : ./Data/Validation/basic/V_8_8_P1/24\n",
      "saved: ./CSV_Data/segment_size_200/Validation/basic-V_8_8_P1-24.csv\n",
      "Processing : ./Data/Validation/basic/V_8_8_P1/16\n",
      "saved: ./CSV_Data/segment_size_200/Validation/basic-V_8_8_P1-16.csv\n",
      "Processing : ./Data/Validation/basic/V_8_8_P1/32\n",
      "saved: ./CSV_Data/segment_size_200/Validation/basic-V_8_8_P1-32.csv\n",
      "Processing : ./Data/Validation/basic/V_8_8_P1/64\n",
      "saved: ./CSV_Data/segment_size_200/Validation/basic-V_8_8_P1-64.csv\n",
      "Processing : ./Data/Validation/basic/V_8_1_P1/32\n",
      "saved: ./CSV_Data/segment_size_200/Validation/basic-V_8_1_P1-32.csv\n",
      "Processing : ./Data/Validation/basic/V_8_1_P1/64\n",
      "saved: ./CSV_Data/segment_size_200/Validation/basic-V_8_1_P1-64.csv\n",
      "Processing : ./Data/Validation/basic/V_8_1_P1/24\n",
      "saved: ./CSV_Data/segment_size_200/Validation/basic-V_8_1_P1-24.csv\n",
      "Processing : ./Data/Validation/basic/V_8_1_P1/16\n",
      "saved: ./CSV_Data/segment_size_200/Validation/basic-V_8_1_P1-16.csv\n",
      "Processing : ./Data/Validation/basic/V_8_0_P1/24\n",
      "saved: ./CSV_Data/segment_size_200/Validation/basic-V_8_0_P1-24.csv\n",
      "Processing : ./Data/Validation/basic/V_8_0_P1/16\n",
      "saved: ./CSV_Data/segment_size_200/Validation/basic-V_8_0_P1-16.csv\n",
      "Processing : ./Data/Validation/basic/V_8_0_P1/64\n",
      "saved: ./CSV_Data/segment_size_200/Validation/basic-V_8_0_P1-64.csv\n",
      "Processing : ./Data/Validation/basic/V_8_0_P1/32\n",
      "saved: ./CSV_Data/segment_size_200/Validation/basic-V_8_0_P1-32.csv\n",
      "Processing : ./Data/Validation/basic/V_8_7_P1/64\n",
      "saved: ./CSV_Data/segment_size_200/Validation/basic-V_8_7_P1-64.csv\n",
      "Processing : ./Data/Validation/basic/V_8_7_P1/32\n",
      "saved: ./CSV_Data/segment_size_200/Validation/basic-V_8_7_P1-32.csv\n",
      "Processing : ./Data/Validation/basic/V_8_7_P1/24\n",
      "saved: ./CSV_Data/segment_size_200/Validation/basic-V_8_7_P1-24.csv\n",
      "Processing : ./Data/Validation/basic/V_8_7_P1/16\n",
      "saved: ./CSV_Data/segment_size_200/Validation/basic-V_8_7_P1-16.csv\n",
      "Processing : ./Data/Performance Test/basic/V_8_8_P1/64\n",
      "saved: ./CSV_Data/segment_size_200/Performance Test/basic-V_8_8_P1-64.csv\n",
      "Processing : ./Data/Performance Test/basic/V_8_8_P1/32\n",
      "saved: ./CSV_Data/segment_size_200/Performance Test/basic-V_8_8_P1-32.csv\n",
      "Processing : ./Data/Performance Test/basic/V_8_8_P1/16\n",
      "saved: ./CSV_Data/segment_size_200/Performance Test/basic-V_8_8_P1-16.csv\n",
      "Processing : ./Data/Performance Test/basic/V_8_8_P1/24\n",
      "saved: ./CSV_Data/segment_size_200/Performance Test/basic-V_8_8_P1-24.csv\n",
      "Processing : ./Data/Performance Test/basic/V_8_7_P1/24\n",
      "saved: ./CSV_Data/segment_size_200/Performance Test/basic-V_8_7_P1-24.csv\n",
      "Processing : ./Data/Performance Test/basic/V_8_7_P1/16\n",
      "saved: ./CSV_Data/segment_size_200/Performance Test/basic-V_8_7_P1-16.csv\n",
      "Processing : ./Data/Performance Test/basic/V_8_7_P1/64\n",
      "saved: ./CSV_Data/segment_size_200/Performance Test/basic-V_8_7_P1-64.csv\n",
      "Processing : ./Data/Performance Test/basic/V_8_7_P1/32\n",
      "saved: ./CSV_Data/segment_size_200/Performance Test/basic-V_8_7_P1-32.csv\n",
      "Processing : ./Data/Performance Test/basic/V_8_0_P1/32\n",
      "saved: ./CSV_Data/segment_size_200/Performance Test/basic-V_8_0_P1-32.csv\n",
      "Processing : ./Data/Performance Test/basic/V_8_0_P1/64\n",
      "saved: ./CSV_Data/segment_size_200/Performance Test/basic-V_8_0_P1-64.csv\n",
      "Processing : ./Data/Performance Test/basic/V_8_0_P1/16\n",
      "saved: ./CSV_Data/segment_size_200/Performance Test/basic-V_8_0_P1-16.csv\n",
      "Processing : ./Data/Performance Test/basic/V_8_0_P1/24\n",
      "saved: ./CSV_Data/segment_size_200/Performance Test/basic-V_8_0_P1-24.csv\n",
      "Processing : ./Data/Performance Test/basic/V_8_1_P1/64\n",
      "saved: ./CSV_Data/segment_size_200/Performance Test/basic-V_8_1_P1-64.csv\n",
      "Processing : ./Data/Performance Test/basic/V_8_1_P1/32\n",
      "saved: ./CSV_Data/segment_size_200/Performance Test/basic-V_8_1_P1-32.csv\n",
      "Processing : ./Data/Performance Test/basic/V_8_1_P1/16\n",
      "saved: ./CSV_Data/segment_size_200/Performance Test/basic-V_8_1_P1-16.csv\n",
      "Processing : ./Data/Performance Test/basic/V_8_1_P1/24\n",
      "saved: ./CSV_Data/segment_size_200/Performance Test/basic-V_8_1_P1-24.csv\n",
      "Done.\n"
     ]
    }
   ],
   "source": [
    "create_csv(segment_size= 200)"
   ]
  },
  {
   "cell_type": "markdown",
   "metadata": {},
   "source": [
    "Deleting all .txt files from the Data repository"
   ]
  },
  {
   "cell_type": "code",
   "execution_count": null,
   "metadata": {},
   "outputs": [
    {
     "name": "stdout",
     "output_type": "stream",
     "text": [
      "Deleteing all previously generated .txt files\n"
     ]
    }
   ],
   "source": [
    "full_txt_delete()"
   ]
  },
  {
   "cell_type": "markdown",
   "metadata": {},
   "source": [
    "### At this stage you are able to run all notebooks in this repository"
   ]
  }
 ],
 "metadata": {
  "kernelspec": {
   "display_name": "omarenv",
   "language": "python",
   "name": "python3"
  },
  "language_info": {
   "codemirror_mode": {
    "name": "ipython",
    "version": 3
   },
   "file_extension": ".py",
   "mimetype": "text/x-python",
   "name": "python",
   "nbconvert_exporter": "python",
   "pygments_lexer": "ipython3",
   "version": "3.9.12"
  },
  "orig_nbformat": 4
 },
 "nbformat": 4,
 "nbformat_minor": 2
}
