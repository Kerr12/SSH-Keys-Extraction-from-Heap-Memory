{
 "cells": [
  {
   "cell_type": "code",
   "execution_count": 1,
   "metadata": {},
   "outputs": [],
   "source": [
    "from lib.custom_datasets import DSMDataset, UnlabeledDSMDataset\n",
    "from lib.DSM import DSM\n",
    "%reload_ext autoreload\n",
    "%autoreload 2"
   ]
  },
  {
   "cell_type": "code",
   "execution_count": 2,
   "metadata": {},
   "outputs": [],
   "source": [
    "data_version='V_8_8_P1'\n",
    "length= '64'\n",
    "\n",
    "training_path= 'Data_V2/Training/basic'\n",
    "validation_path= 'Data_V2/Validation/basic'\n",
    "testing_path= 'Data_V2/Performance Test/basic'\n",
    "experiment_path= 'Data_V2/experiment'"
   ]
  },
  {
   "cell_type": "code",
   "execution_count": 3,
   "metadata": {},
   "outputs": [],
   "source": [
    "embedding_dim = 128\n",
    "agent_hidden_dim= 256\n",
    "lr = 0.001"
   ]
  },
  {
   "cell_type": "markdown",
   "metadata": {},
   "source": [
    "### evaluation"
   ]
  },
  {
   "cell_type": "markdown",
   "metadata": {},
   "source": [
    "#### evaluation on 64"
   ]
  },
  {
   "cell_type": "code",
   "execution_count": 4,
   "metadata": {},
   "outputs": [
    {
     "name": "stdout",
     "output_type": "stream",
     "text": [
      "Loading modules from /root/thesis/dsm_models/V_8_8_P1__64/10\n",
      "-----------------------------------------------------------------------------\n",
      "Embedding function and Agents loaded.\n",
      "-----------------------------------------------------------------------------\n",
      "Error loading generator: [Errno 2] No such file or directory: '/root/thesis/dsm_models/V_8_8_P1__64/10/generator.pth'\n",
      "-----------------------------------------------------------------------------\n"
     ]
    }
   ],
   "source": [
    "dsm = DSM(embedding_dim= embedding_dim, agent_hidden_state= agent_hidden_dim, cuda_index=2)\n",
    "dsm.load_model(directory_path= '/root/thesis/dsm_models',data_version= data_version, length= '64', trial=10)\n"
   ]
  },
  {
   "cell_type": "markdown",
   "metadata": {},
   "source": [
    "##### Labelled data"
   ]
  },
  {
   "cell_type": "code",
   "execution_count": 5,
   "metadata": {},
   "outputs": [
    {
     "name": "stdout",
     "output_type": "stream",
     "text": [
      "Loading files from Data_V2/experiment/V_8_8_P1/64\n",
      "Dataset contains 4 files\n"
     ]
    }
   ],
   "source": [
    "exp_set_64 = DSMDataset(experiment_path, data_version, length='64', sampling= False)\n",
    "print(f\"Dataset contains {len(exp_set_64)} files\")"
   ]
  },
  {
   "cell_type": "code",
   "execution_count": 6,
   "metadata": {},
   "outputs": [
    {
     "name": "stdout",
     "output_type": "stream",
     "text": [
      "Inference start\n",
      "file #0\n"
     ]
    },
    {
     "name": "stderr",
     "output_type": "stream",
     "text": [
      "100%|██████████| 16896/16896 [00:17<00:00, 940.84it/s] \n"
     ]
    },
    {
     "name": "stdout",
     "output_type": "stream",
     "text": [
      "labels distributions: {0: 16876, 1: 2, 2: 16, 3: 2}\n",
      "predictions distributions: {0: 16407, 1: 100, 2: 289, 3: 100}\n",
      "Class-wise Precision: [1.         0.02       0.05536332 0.02      ]\n",
      "Class-wise Recall: [0.97220905 1.         1.         1.        ]\n",
      "Class-wise F1-score: [0.98590872 0.03921569 0.10491803 0.03921569]\n",
      "[[16407    98   273    98]\n",
      " [    0     2     0     0]\n",
      " [    0     0    16     0]\n",
      " [    0     0     0     2]]\n",
      "-----------------------------------------------\n",
      "file #1\n"
     ]
    },
    {
     "name": "stderr",
     "output_type": "stream",
     "text": [
      "100%|██████████| 16896/16896 [00:14<00:00, 1126.93it/s]\n"
     ]
    },
    {
     "name": "stdout",
     "output_type": "stream",
     "text": [
      "labels distributions: {0: 16876, 1: 2, 2: 16, 3: 2}\n",
      "predictions distributions: {0: 16420, 1: 97, 2: 282, 3: 97}\n",
      "Class-wise Precision: [1.         0.02061856 0.05673759 0.02061856]\n",
      "Class-wise Recall: [0.97297938 1.         1.         1.        ]\n",
      "Class-wise F1-score: [0.98630466 0.04040404 0.10738255 0.04040404]\n",
      "[[16420    95   266    95]\n",
      " [    0     2     0     0]\n",
      " [    0     0    16     0]\n",
      " [    0     0     0     2]]\n",
      "-----------------------------------------------\n",
      "file #2\n"
     ]
    },
    {
     "name": "stderr",
     "output_type": "stream",
     "text": [
      "100%|██████████| 16896/16896 [00:14<00:00, 1127.25it/s]\n"
     ]
    },
    {
     "name": "stdout",
     "output_type": "stream",
     "text": [
      "labels distributions: {0: 16876, 1: 2, 2: 16, 3: 2}\n",
      "predictions distributions: {0: 16419, 1: 96, 2: 285, 3: 96}\n",
      "Class-wise Precision: [1.         0.02083333 0.05614035 0.02083333]\n",
      "Class-wise Recall: [0.97292012 1.         1.         1.        ]\n",
      "Class-wise F1-score: [0.98627422 0.04081633 0.10631229 0.04081633]\n",
      "[[16419    94   269    94]\n",
      " [    0     2     0     0]\n",
      " [    0     0    16     0]\n",
      " [    0     0     0     2]]\n",
      "-----------------------------------------------\n",
      "file #3\n"
     ]
    },
    {
     "name": "stderr",
     "output_type": "stream",
     "text": [
      "100%|██████████| 16896/16896 [00:14<00:00, 1134.99it/s]\n"
     ]
    },
    {
     "name": "stdout",
     "output_type": "stream",
     "text": [
      "labels distributions: {0: 16876, 1: 2, 2: 16, 3: 2}\n",
      "predictions distributions: {0: 16403, 1: 99, 2: 295, 3: 99}\n",
      "Class-wise Precision: [1.         0.02020202 0.05423729 0.02020202]\n",
      "Class-wise Recall: [0.97197203 1.         1.         1.        ]\n",
      "Class-wise F1-score: [0.98578683 0.03960396 0.10289389 0.03960396]\n",
      "[[16403    97   279    97]\n",
      " [    0     2     0     0]\n",
      " [    0     0    16     0]\n",
      " [    0     0     0     2]]\n",
      "-----------------------------------------------\n",
      "===============================================\n",
      "Overall Metrics (Summed):\n",
      "Class-wise Precision: [1.         0.02040816 0.05560382 0.02040816]\n",
      "Class-wise Recall: [0.97252015 1.         1.         1.        ]\n",
      "Class-wise F1-score: [0.98606866 0.04       0.10534979 0.04      ]\n",
      "[[65649   384  1087   384]\n",
      " [    0     8     0     0]\n",
      " [    0     0    64     0]\n",
      " [    0     0     0     8]]\n",
      "Inference Complete\n"
     ]
    }
   ],
   "source": [
    "predictions_64=dsm.infer(dataset= exp_set_64, labeled_dataset=True, suppress_output= False, evaluation_approach='per_file')"
   ]
  },
  {
   "cell_type": "code",
   "execution_count": 7,
   "metadata": {},
   "outputs": [
    {
     "data": {
      "text/html": [
       "<div>\n",
       "<style scoped>\n",
       "    .dataframe tbody tr th:only-of-type {\n",
       "        vertical-align: middle;\n",
       "    }\n",
       "\n",
       "    .dataframe tbody tr th {\n",
       "        vertical-align: top;\n",
       "    }\n",
       "\n",
       "    .dataframe thead th {\n",
       "        text-align: right;\n",
       "    }\n",
       "</style>\n",
       "<table border=\"1\" class=\"dataframe\">\n",
       "  <thead>\n",
       "    <tr style=\"text-align: right;\">\n",
       "      <th></th>\n",
       "      <th>extracted_keys_int</th>\n",
       "      <th>extracted_keys_hex</th>\n",
       "      <th>key_label</th>\n",
       "      <th>file</th>\n",
       "    </tr>\n",
       "  </thead>\n",
       "  <tbody>\n",
       "    <tr>\n",
       "      <th>0</th>\n",
       "      <td>[0, 0, 0, 0, 0, 0, 0, 0, 33, 0, 0, 0, 0, 0, 0,...</td>\n",
       "      <td>000000000000000021000000000000002d52000000000000</td>\n",
       "      <td>False</td>\n",
       "      <td>0</td>\n",
       "    </tr>\n",
       "    <tr>\n",
       "      <th>1</th>\n",
       "      <td>[0, 0, 0, 0, 0, 0, 0, 0, 33, 0, 0, 0, 0, 0, 0,...</td>\n",
       "      <td>000000000000000021000000000000004c4f474e414d45...</td>\n",
       "      <td>False</td>\n",
       "      <td>0</td>\n",
       "    </tr>\n",
       "    <tr>\n",
       "      <th>2</th>\n",
       "      <td>[192, 206, 116, 190, 109, 85, 0, 0, 16, 224, 1...</td>\n",
       "      <td>c0ce74be6d55000010e073be6d550000</td>\n",
       "      <td>False</td>\n",
       "      <td>0</td>\n",
       "    </tr>\n",
       "    <tr>\n",
       "      <th>3</th>\n",
       "      <td>[0, 0, 0, 0, 0, 0, 0, 0, 64, 116, 117, 190, 10...</td>\n",
       "      <td>0000000000000000407475be6d550000</td>\n",
       "      <td>False</td>\n",
       "      <td>0</td>\n",
       "    </tr>\n",
       "    <tr>\n",
       "      <th>4</th>\n",
       "      <td>[0, 0, 0, 0, 0, 0, 0, 0, 64, 40, 116, 190, 109...</td>\n",
       "      <td>0000000000000000402874be6d550000000000008a0300...</td>\n",
       "      <td>False</td>\n",
       "      <td>0</td>\n",
       "    </tr>\n",
       "    <tr>\n",
       "      <th>...</th>\n",
       "      <td>...</td>\n",
       "      <td>...</td>\n",
       "      <td>...</td>\n",
       "      <td>...</td>\n",
       "    </tr>\n",
       "    <tr>\n",
       "      <th>387</th>\n",
       "      <td>[0, 0, 0, 0, 0, 0, 0, 0, 112, 138, 141, 133, 2...</td>\n",
       "      <td>0000000000000000708a8d8515560000708a8d8515560000</td>\n",
       "      <td>False</td>\n",
       "      <td>3</td>\n",
       "    </tr>\n",
       "    <tr>\n",
       "      <th>388</th>\n",
       "      <td>[0, 0, 0, 0, 0, 0, 0, 0, 144, 207, 141, 133, 2...</td>\n",
       "      <td>000000000000000090cf8d851556000090c08d8515560000</td>\n",
       "      <td>False</td>\n",
       "      <td>3</td>\n",
       "    </tr>\n",
       "    <tr>\n",
       "      <th>389</th>\n",
       "      <td>[1, 0, 0, 0, 1, 0, 0, 0, 1, 0, 0, 0, 1, 0, 0, ...</td>\n",
       "      <td>010000000100000001000000010000000100000000000000</td>\n",
       "      <td>False</td>\n",
       "      <td>3</td>\n",
       "    </tr>\n",
       "    <tr>\n",
       "      <th>390</th>\n",
       "      <td>[16, 65, 204, 133, 21, 86, 0, 0, 16, 65, 204, ...</td>\n",
       "      <td>1041cc85155600001041cc8515560000</td>\n",
       "      <td>False</td>\n",
       "      <td>3</td>\n",
       "    </tr>\n",
       "    <tr>\n",
       "      <th>391</th>\n",
       "      <td>[112, 66, 204, 133, 21, 86, 0, 0, 112, 66, 204...</td>\n",
       "      <td>7042cc85155600007042cc8515560000</td>\n",
       "      <td>False</td>\n",
       "      <td>3</td>\n",
       "    </tr>\n",
       "  </tbody>\n",
       "</table>\n",
       "<p>392 rows × 4 columns</p>\n",
       "</div>"
      ],
      "text/plain": [
       "                                    extracted_keys_int   \n",
       "0    [0, 0, 0, 0, 0, 0, 0, 0, 33, 0, 0, 0, 0, 0, 0,...  \\\n",
       "1    [0, 0, 0, 0, 0, 0, 0, 0, 33, 0, 0, 0, 0, 0, 0,...   \n",
       "2    [192, 206, 116, 190, 109, 85, 0, 0, 16, 224, 1...   \n",
       "3    [0, 0, 0, 0, 0, 0, 0, 0, 64, 116, 117, 190, 10...   \n",
       "4    [0, 0, 0, 0, 0, 0, 0, 0, 64, 40, 116, 190, 109...   \n",
       "..                                                 ...   \n",
       "387  [0, 0, 0, 0, 0, 0, 0, 0, 112, 138, 141, 133, 2...   \n",
       "388  [0, 0, 0, 0, 0, 0, 0, 0, 144, 207, 141, 133, 2...   \n",
       "389  [1, 0, 0, 0, 1, 0, 0, 0, 1, 0, 0, 0, 1, 0, 0, ...   \n",
       "390  [16, 65, 204, 133, 21, 86, 0, 0, 16, 65, 204, ...   \n",
       "391  [112, 66, 204, 133, 21, 86, 0, 0, 112, 66, 204...   \n",
       "\n",
       "                                    extracted_keys_hex  key_label  file  \n",
       "0     000000000000000021000000000000002d52000000000000      False     0  \n",
       "1    000000000000000021000000000000004c4f474e414d45...      False     0  \n",
       "2                     c0ce74be6d55000010e073be6d550000      False     0  \n",
       "3                     0000000000000000407475be6d550000      False     0  \n",
       "4    0000000000000000402874be6d550000000000008a0300...      False     0  \n",
       "..                                                 ...        ...   ...  \n",
       "387   0000000000000000708a8d8515560000708a8d8515560000      False     3  \n",
       "388   000000000000000090cf8d851556000090c08d8515560000      False     3  \n",
       "389   010000000100000001000000010000000100000000000000      False     3  \n",
       "390                   1041cc85155600001041cc8515560000      False     3  \n",
       "391                   7042cc85155600007042cc8515560000      False     3  \n",
       "\n",
       "[392 rows x 4 columns]"
      ]
     },
     "metadata": {},
     "output_type": "display_data"
    }
   ],
   "source": [
    "keys = dsm.extract(exp_set_64, predictions_64, labeled_dataset = True)\n",
    "display(keys)"
   ]
  },
  {
   "cell_type": "code",
   "execution_count": null,
   "metadata": {},
   "outputs": [
    {
     "data": {
      "text/html": [
       "<div>\n",
       "<style scoped>\n",
       "    .dataframe tbody tr th:only-of-type {\n",
       "        vertical-align: middle;\n",
       "    }\n",
       "\n",
       "    .dataframe tbody tr th {\n",
       "        vertical-align: top;\n",
       "    }\n",
       "\n",
       "    .dataframe thead th {\n",
       "        text-align: right;\n",
       "    }\n",
       "</style>\n",
       "<table border=\"1\" class=\"dataframe\">\n",
       "  <thead>\n",
       "    <tr style=\"text-align: right;\">\n",
       "      <th></th>\n",
       "      <th>extracted_keys_int</th>\n",
       "      <th>extracted_keys_hex</th>\n",
       "      <th>key_label</th>\n",
       "      <th>file</th>\n",
       "    </tr>\n",
       "  </thead>\n",
       "  <tbody>\n",
       "    <tr>\n",
       "      <th>10</th>\n",
       "      <td>[217, 175, 97, 70, 182, 156, 81, 47, 51, 214, ...</td>\n",
       "      <td>d9af6146b69c512f33d64ee7086d50a45c4589cfab9904...</td>\n",
       "      <td>True</td>\n",
       "      <td>0</td>\n",
       "    </tr>\n",
       "    <tr>\n",
       "      <th>19</th>\n",
       "      <td>[125, 181, 45, 149, 87, 220, 9, 76, 29, 248, 1...</td>\n",
       "      <td>7db52d9557dc094c1df8c3e5b9d06fbb45531e41b582d1...</td>\n",
       "      <td>True</td>\n",
       "      <td>0</td>\n",
       "    </tr>\n",
       "    <tr>\n",
       "      <th>78</th>\n",
       "      <td>[160, 179, 73, 11, 11, 142, 53, 240, 43, 30, 6...</td>\n",
       "      <td>a0b3490b0b8e35f02b1e440f7620a7e2b300291bbca21b...</td>\n",
       "      <td>True</td>\n",
       "      <td>1</td>\n",
       "    </tr>\n",
       "    <tr>\n",
       "      <th>116</th>\n",
       "      <td>[22, 191, 105, 70, 9, 173, 93, 156, 142, 103, ...</td>\n",
       "      <td>16bf694609ad5d9c8e6746ae07c867c7460d1fea5bfb50...</td>\n",
       "      <td>True</td>\n",
       "      <td>1</td>\n",
       "    </tr>\n",
       "    <tr>\n",
       "      <th>160</th>\n",
       "      <td>[122, 209, 40, 222, 226, 135, 221, 58, 155, 16...</td>\n",
       "      <td>7ad128dee287dd3a9ba6b83efb28176bc4fb92a3d927aa...</td>\n",
       "      <td>True</td>\n",
       "      <td>2</td>\n",
       "    </tr>\n",
       "    <tr>\n",
       "      <th>179</th>\n",
       "      <td>[179, 246, 88, 11, 224, 138, 196, 105, 69, 145...</td>\n",
       "      <td>b3f6580be08ac4694591c70385c8623f0009b2068a34ab...</td>\n",
       "      <td>True</td>\n",
       "      <td>2</td>\n",
       "    </tr>\n",
       "    <tr>\n",
       "      <th>201</th>\n",
       "      <td>[47, 32, 17, 163, 148, 87, 98, 9, 183, 101, 25...</td>\n",
       "      <td>2f2011a394576209b765fc7c65dad709791e9651dd06ac...</td>\n",
       "      <td>True</td>\n",
       "      <td>3</td>\n",
       "    </tr>\n",
       "    <tr>\n",
       "      <th>246</th>\n",
       "      <td>[236, 73, 3, 16, 81, 108, 66, 196, 61, 204, 64...</td>\n",
       "      <td>ec490310516c42c43dcc40a4db3a6e801af91ff9355928...</td>\n",
       "      <td>True</td>\n",
       "      <td>3</td>\n",
       "    </tr>\n",
       "  </tbody>\n",
       "</table>\n",
       "</div>"
      ],
      "text/plain": [
       "                                    extracted_keys_int   \n",
       "10   [217, 175, 97, 70, 182, 156, 81, 47, 51, 214, ...  \\\n",
       "19   [125, 181, 45, 149, 87, 220, 9, 76, 29, 248, 1...   \n",
       "78   [160, 179, 73, 11, 11, 142, 53, 240, 43, 30, 6...   \n",
       "116  [22, 191, 105, 70, 9, 173, 93, 156, 142, 103, ...   \n",
       "160  [122, 209, 40, 222, 226, 135, 221, 58, 155, 16...   \n",
       "179  [179, 246, 88, 11, 224, 138, 196, 105, 69, 145...   \n",
       "201  [47, 32, 17, 163, 148, 87, 98, 9, 183, 101, 25...   \n",
       "246  [236, 73, 3, 16, 81, 108, 66, 196, 61, 204, 64...   \n",
       "\n",
       "                                    extracted_keys_hex  key_label  file  \n",
       "10   d9af6146b69c512f33d64ee7086d50a45c4589cfab9904...       True     0  \n",
       "19   7db52d9557dc094c1df8c3e5b9d06fbb45531e41b582d1...       True     0  \n",
       "78   a0b3490b0b8e35f02b1e440f7620a7e2b300291bbca21b...       True     1  \n",
       "116  16bf694609ad5d9c8e6746ae07c867c7460d1fea5bfb50...       True     1  \n",
       "160  7ad128dee287dd3a9ba6b83efb28176bc4fb92a3d927aa...       True     2  \n",
       "179  b3f6580be08ac4694591c70385c8623f0009b2068a34ab...       True     2  \n",
       "201  2f2011a394576209b765fc7c65dad709791e9651dd06ac...       True     3  \n",
       "246  ec490310516c42c43dcc40a4db3a6e801af91ff9355928...       True     3  "
      ]
     },
     "metadata": {},
     "output_type": "display_data"
    }
   ],
   "source": [
    "correct_keys = keys[keys['key_label'] == True]\n",
    "display(correct_keys)"
   ]
  },
  {
   "cell_type": "markdown",
   "metadata": {},
   "source": [
    "##### unlabeled data"
   ]
  },
  {
   "cell_type": "code",
   "execution_count": null,
   "metadata": {},
   "outputs": [
    {
     "name": "stdout",
     "output_type": "stream",
     "text": [
      "Loading files from Data_V2/experiment/V_8_8_P1/64\n",
      "Dataset contains 4 files\n"
     ]
    }
   ],
   "source": [
    "Unlabeled_exp_set_64 = UnlabeledDSMDataset(experiment_path, data_version, length='64')\n",
    "print(f\"Dataset contains {len(exp_set_64)} files\")"
   ]
  },
  {
   "cell_type": "code",
   "execution_count": null,
   "metadata": {},
   "outputs": [
    {
     "name": "stdout",
     "output_type": "stream",
     "text": [
      "Inference start\n",
      "file #0\n"
     ]
    },
    {
     "name": "stderr",
     "output_type": "stream",
     "text": [
      "100%|██████████| 16896/16896 [00:17<00:00, 939.22it/s] \n"
     ]
    },
    {
     "name": "stdout",
     "output_type": "stream",
     "text": [
      "predictions distributions: {0: 16570, 1: 66, 2: 194, 3: 66}\n",
      "file #1\n"
     ]
    },
    {
     "name": "stderr",
     "output_type": "stream",
     "text": [
      "100%|██████████| 16896/16896 [00:16<00:00, 1000.57it/s]\n"
     ]
    },
    {
     "name": "stdout",
     "output_type": "stream",
     "text": [
      "predictions distributions: {0: 16578, 1: 64, 2: 190, 3: 64}\n",
      "file #2\n"
     ]
    },
    {
     "name": "stderr",
     "output_type": "stream",
     "text": [
      "100%|██████████| 16896/16896 [00:16<00:00, 996.83it/s] \n"
     ]
    },
    {
     "name": "stdout",
     "output_type": "stream",
     "text": [
      "predictions distributions: {0: 16581, 1: 62, 2: 191, 3: 62}\n",
      "file #3\n"
     ]
    },
    {
     "name": "stderr",
     "output_type": "stream",
     "text": [
      "100%|██████████| 16896/16896 [00:17<00:00, 975.76it/s]"
     ]
    },
    {
     "name": "stdout",
     "output_type": "stream",
     "text": [
      "predictions distributions: {0: 16561, 1: 66, 2: 203, 3: 66}\n",
      "Inference Complete\n"
     ]
    },
    {
     "name": "stderr",
     "output_type": "stream",
     "text": [
      "\n"
     ]
    }
   ],
   "source": [
    "predictions_64=dsm.infer(dataset= Unlabeled_exp_set_64, labeled_dataset=False, suppress_output= False, evaluation_approach='per_file')"
   ]
  },
  {
   "cell_type": "code",
   "execution_count": null,
   "metadata": {},
   "outputs": [
    {
     "data": {
      "text/html": [
       "<div>\n",
       "<style scoped>\n",
       "    .dataframe tbody tr th:only-of-type {\n",
       "        vertical-align: middle;\n",
       "    }\n",
       "\n",
       "    .dataframe tbody tr th {\n",
       "        vertical-align: top;\n",
       "    }\n",
       "\n",
       "    .dataframe thead th {\n",
       "        text-align: right;\n",
       "    }\n",
       "</style>\n",
       "<table border=\"1\" class=\"dataframe\">\n",
       "  <thead>\n",
       "    <tr style=\"text-align: right;\">\n",
       "      <th></th>\n",
       "      <th>extracted_keys_int</th>\n",
       "      <th>extracted_keys_hex</th>\n",
       "      <th>file</th>\n",
       "    </tr>\n",
       "  </thead>\n",
       "  <tbody>\n",
       "    <tr>\n",
       "      <th>0</th>\n",
       "      <td>[192, 206, 116, 190, 109, 85, 0, 0, 16, 224, 1...</td>\n",
       "      <td>c0ce74be6d55000010e073be6d550000</td>\n",
       "      <td>0</td>\n",
       "    </tr>\n",
       "    <tr>\n",
       "      <th>1</th>\n",
       "      <td>[240, 79, 116, 190, 109, 85, 0, 0, 240, 79, 11...</td>\n",
       "      <td>f04f74be6d550000f04f74be6d550000</td>\n",
       "      <td>0</td>\n",
       "    </tr>\n",
       "    <tr>\n",
       "      <th>2</th>\n",
       "      <td>[48, 53, 116, 190, 109, 85, 0, 0, 48, 53, 116,...</td>\n",
       "      <td>303574be6d550000303574be6d550000</td>\n",
       "      <td>0</td>\n",
       "    </tr>\n",
       "    <tr>\n",
       "      <th>3</th>\n",
       "      <td>[147, 138, 215, 20, 50, 248, 136, 211, 152, 18...</td>\n",
       "      <td>938ad71432f888d398b74d0978d1243d0a1490ab6eac59...</td>\n",
       "      <td>0</td>\n",
       "    </tr>\n",
       "    <tr>\n",
       "      <th>4</th>\n",
       "      <td>[80, 126, 117, 190, 109, 85, 0, 0, 16, 224, 11...</td>\n",
       "      <td>507e75be6d55000010e073be6d550000</td>\n",
       "      <td>0</td>\n",
       "    </tr>\n",
       "    <tr>\n",
       "      <th>...</th>\n",
       "      <td>...</td>\n",
       "      <td>...</td>\n",
       "      <td>...</td>\n",
       "    </tr>\n",
       "    <tr>\n",
       "      <th>253</th>\n",
       "      <td>[192, 53, 204, 133, 21, 86, 0, 0, 192, 53, 204...</td>\n",
       "      <td>c035cc8515560000c035cc8515560000</td>\n",
       "      <td>3</td>\n",
       "    </tr>\n",
       "    <tr>\n",
       "      <th>254</th>\n",
       "      <td>[32, 158, 202, 133, 21, 86, 0, 0, 16, 64, 202,...</td>\n",
       "      <td>209eca85155600001040ca8515560000</td>\n",
       "      <td>3</td>\n",
       "    </tr>\n",
       "    <tr>\n",
       "      <th>255</th>\n",
       "      <td>[176, 61, 204, 133, 21, 86, 0, 0, 10, 0, 0, 0,...</td>\n",
       "      <td>b03dcc85155600000a00000000000000103ecc85155600...</td>\n",
       "      <td>3</td>\n",
       "    </tr>\n",
       "    <tr>\n",
       "      <th>256</th>\n",
       "      <td>[16, 65, 204, 133, 21, 86, 0, 0, 16, 65, 204, ...</td>\n",
       "      <td>1041cc85155600001041cc8515560000</td>\n",
       "      <td>3</td>\n",
       "    </tr>\n",
       "    <tr>\n",
       "      <th>257</th>\n",
       "      <td>[112, 66, 204, 133, 21, 86, 0, 0, 112, 66, 204...</td>\n",
       "      <td>7042cc85155600007042cc8515560000</td>\n",
       "      <td>3</td>\n",
       "    </tr>\n",
       "  </tbody>\n",
       "</table>\n",
       "<p>258 rows × 3 columns</p>\n",
       "</div>"
      ],
      "text/plain": [
       "                                    extracted_keys_int   \n",
       "0    [192, 206, 116, 190, 109, 85, 0, 0, 16, 224, 1...  \\\n",
       "1    [240, 79, 116, 190, 109, 85, 0, 0, 240, 79, 11...   \n",
       "2    [48, 53, 116, 190, 109, 85, 0, 0, 48, 53, 116,...   \n",
       "3    [147, 138, 215, 20, 50, 248, 136, 211, 152, 18...   \n",
       "4    [80, 126, 117, 190, 109, 85, 0, 0, 16, 224, 11...   \n",
       "..                                                 ...   \n",
       "253  [192, 53, 204, 133, 21, 86, 0, 0, 192, 53, 204...   \n",
       "254  [32, 158, 202, 133, 21, 86, 0, 0, 16, 64, 202,...   \n",
       "255  [176, 61, 204, 133, 21, 86, 0, 0, 10, 0, 0, 0,...   \n",
       "256  [16, 65, 204, 133, 21, 86, 0, 0, 16, 65, 204, ...   \n",
       "257  [112, 66, 204, 133, 21, 86, 0, 0, 112, 66, 204...   \n",
       "\n",
       "                                    extracted_keys_hex  file  \n",
       "0                     c0ce74be6d55000010e073be6d550000     0  \n",
       "1                     f04f74be6d550000f04f74be6d550000     0  \n",
       "2                     303574be6d550000303574be6d550000     0  \n",
       "3    938ad71432f888d398b74d0978d1243d0a1490ab6eac59...     0  \n",
       "4                     507e75be6d55000010e073be6d550000     0  \n",
       "..                                                 ...   ...  \n",
       "253                   c035cc8515560000c035cc8515560000     3  \n",
       "254                   209eca85155600001040ca8515560000     3  \n",
       "255  b03dcc85155600000a00000000000000103ecc85155600...     3  \n",
       "256                   1041cc85155600001041cc8515560000     3  \n",
       "257                   7042cc85155600007042cc8515560000     3  \n",
       "\n",
       "[258 rows x 3 columns]"
      ]
     },
     "metadata": {},
     "output_type": "display_data"
    }
   ],
   "source": [
    "keys = dsm.extract(Unlabeled_exp_set_64, predictions_64, labeled_dataset = False)\n",
    "display(keys)"
   ]
  }
 ],
 "metadata": {
  "kernelspec": {
   "display_name": "omarenv",
   "language": "python",
   "name": "python3"
  },
  "language_info": {
   "codemirror_mode": {
    "name": "ipython",
    "version": 3
   },
   "file_extension": ".py",
   "mimetype": "text/x-python",
   "name": "python",
   "nbconvert_exporter": "python",
   "pygments_lexer": "ipython3",
   "version": "3.9.12"
  },
  "orig_nbformat": 4
 },
 "nbformat": 4,
 "nbformat_minor": 2
}
